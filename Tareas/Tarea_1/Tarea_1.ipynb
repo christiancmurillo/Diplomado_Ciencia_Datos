{
 "cells": [
  {
   "cell_type": "markdown",
   "id": "5c87a083-b469-4a41-a25a-ecb51f9a1f38",
   "metadata": {},
   "source": [
    " ![alt text](jupyter.jpg)"
   ]
  },
  {
   "cell_type": "markdown",
   "id": "b0aecfd9-d7b5-4bbf-8dff-9405145e6a45",
   "metadata": {},
   "source": [
    " ## **Inicia Una Nueva Aventura**"
   ]
  },
  {
   "cell_type": "markdown",
   "id": "156ee649-87e5-4516-b2b0-16cc96259928",
   "metadata": {},
   "source": [
    " ![alt text](foto1.jpg)"
   ]
  },
  {
   "cell_type": "markdown",
   "id": "bea830e4-0935-4822-a747-7150d721386e",
   "metadata": {},
   "source": [
    "Soy _**Christian Murillo**_ estudiante de estadística de la Universidad Nacional de Colombia Sede Medellín, actualmente me encuentro cursando el noveno semestre, además me encuentro haciendo practicas en el INDER Medellín. El pasado mes de septiembre tuve la oportunidad de estar en el simposio de estadística en Manizales presentando un poster, lo cual fue una linda experiencia con muchos aprendizajes, en ese lugar tuve la oportunidad de conocer al profesor Alvaro Montenegro. Me acuerdo muy bien, es más podría decir que me dejo marcado, en el conversatorio final el dijo \"_un estadístico que no sepa programar, no es estadistico_\", esto me llego debido a que durante la carrera \"programé\" considero que no se programar, ya que gran parte de los codigos eran copy paste y modifique un poco, muy pocas veces nos toco enfrentarnos a algo nuevo o por lo minimo huir a buscar a google, y por mi parte no había un interes de aprender más. Esto cambio cuando empece a buscar practicas y me dí cuenta que la mayoria de empresas buscan son cientificos de datos, que para ellos son, personas con conocimientos en estadística y habilidades en diferentes lenguajes programación. Después de volver de manizales a las semanas me doy cuenta por twitter del minicurso que se estaba dictando y dije bueno es el momento, estoy muy feliz y con muchas espectativas de lo que puedo aprender en este diplomado. \n",
    "\n",
    "Por otro lado como pueden ver en mi foto, me gusta el senderismo, siendo más especifico el trekking que es senderismo en alta montaña."
   ]
  },
  {
   "cell_type": "markdown",
   "id": "2e0ef747-a0b7-4a22-988b-458481895b9d",
   "metadata": {},
   "source": [
    "## Formula Matemática "
   ]
  },
  {
   "cell_type": "markdown",
   "id": "954ae232-4115-4740-b468-193373af4793",
   "metadata": {},
   "source": [
    "#### **Distribución normal multivariada**"
   ]
  },
  {
   "cell_type": "markdown",
   "id": "b11917a8-3455-4d97-8092-6a21d75c4045",
   "metadata": {},
   "source": [
    "Sea $X$ un vector aleatorio $\\in$ $\\mathbb R^p$. Se dice que $X$ tiene una $p.d.f$ **Normal Multivariada**, y se escribe $X\\sim N_p(\\mu,\\sum)$ si: $$f(X)=(2\\pi)^{-\\frac{p}{2}}|\\sum|^{-\\frac{1}{2}}e^{-\\frac{1}{2}(x-\\mu)' \\sum^{-1}(x-\\mu)}$$\n",
    "\n"
   ]
  },
  {
   "cell_type": "markdown",
   "id": "53ee98cf-1ba7-4d95-9be2-f91265c80df9",
   "metadata": {},
   "source": [
    "[Explicación de la Distribución Normal](https://la.mathworks.com/help/stats/multivariate-normal-distribution.html)"
   ]
  },
  {
   "cell_type": "markdown",
   "id": "43631057-48d4-4662-8487-03f3fbf9e409",
   "metadata": {},
   "source": [
    "[Distancia de Mahalanobis](https://caminosaleatorios.wordpress.com/2020/04/16/tan-cerca-y-tan-lejos-la-distancia-de-mahalanobis/)"
   ]
  },
  {
   "cell_type": "markdown",
   "id": "15b3fc94-e10a-4f12-9e1b-c182e06315d7",
   "metadata": {},
   "source": [
    "[![Open In Colab](https://colab.research.google.com/assets/colab-badge.svg)](https://colab.research.google.com/?hl=es)"
   ]
  },
  {
   "cell_type": "markdown",
   "id": "117800ad-f68f-426a-907d-dabf282301f7",
   "metadata": {},
   "source": [
    "[![Open In Colab](https://colab.research.google.com/assets/colab-badge.svg)](https://colab.research.google.com/github/googlecolab/colabtools/blob/main/notebooks/colab-github-demo.ipynb)"
   ]
  }
 ],
 "metadata": {
  "kernelspec": {
   "display_name": "Python 3 (ipykernel)",
   "language": "python",
   "name": "python3"
  },
  "language_info": {
   "codemirror_mode": {
    "name": "ipython",
    "version": 3
   },
   "file_extension": ".py",
   "mimetype": "text/x-python",
   "name": "python",
   "nbconvert_exporter": "python",
   "pygments_lexer": "ipython3",
   "version": "3.9.7"
  }
 },
 "nbformat": 4,
 "nbformat_minor": 5
}
